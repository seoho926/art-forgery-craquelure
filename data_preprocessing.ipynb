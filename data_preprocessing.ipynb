{
 "cells": [
  {
   "cell_type": "code",
   "execution_count": 4,
   "metadata": {},
   "outputs": [
    {
     "name": "stdout",
     "output_type": "stream",
     "text": [
      "Checking bucket ...\n",
      "Unzipping archive ...\n",
      "Checking directories ...\n"
     ]
    }
   ],
   "source": [
    "import boto3\n",
    "import os\n",
    "import zipfile\n",
    "from PIL import Image\n",
    "from botocore.exceptions import ClientError\n",
    "\n",
    "bucket_name = 'art.forgery.capstone.project'\n",
    "\n",
    "s3 = boto3.client('s3')\n",
    "try:\n",
    "    print(\"Checking bucket ...\")\n",
    "    s3.head_bucket(Bucket=bucket_name)\n",
    "except ClientError as e:\n",
    "    print(\"Bucket not existing, creating it ...\")\n",
    "    s3.create_bucket(Bucket=bucket_name, ACL=\"private\", CreateBucketConfiguration={'LocationConstraint': 'EU'})\n",
    "\n",
    "zip_dataset = \"Cracks2.zip\"\n",
    "tmp_dest = os.path.join(os.path.dirname('data_preprocessing.ipynb'), \"tmp\")\n",
    "data_dir = os.path.join(os.path.dirname('data_preprocessing.ipynb'), \"cracks\")\n",
    "\n",
    "if not os.path.exists(tmp_dest):\n",
    "    os.mkdir(tmp_dest)\n",
    "\n",
    "if len(os.listdir(tmp_dest)) <= 0:\n",
    "    print(\"Unzipping archive ...\")\n",
    "    with zipfile.ZipFile(zip_dataset, 'r') as zip_ref:\n",
    "        zip_ref.extractall(tmp_dest)\n",
    "\n",
    "dutch_dir = tmp_dest + \"/Dutch\"\n",
    "flemish_dir = tmp_dest + \"/Flemish\"\n",
    "\n",
    "train_dir = data_dir + \"/train/\"\n",
    "validation_dir = data_dir + \"/validation/\"\n",
    "\n",
    "print(\"Checking directories ...\")\n",
    "for dir in [data_dir, train_dir, validation_dir]:\n",
    "    if not os.path.exists(dir):\n",
    "        os.mkdir(dir)"
   ]
  },
  {
   "cell_type": "code",
   "execution_count": 5,
   "metadata": {},
   "outputs": [
    {
     "name": "stdout",
     "output_type": "stream",
     "text": [
      "Organizing and checking files ...\n"
     ]
    },
    {
     "ename": "FileNotFoundError",
     "evalue": "[Errno 2] No such file or directory: 'tmp/Dutch'",
     "output_type": "error",
     "traceback": [
      "\u001b[0;31m---------------------------------------------------------------------------\u001b[0m",
      "\u001b[0;31mFileNotFoundError\u001b[0m                         Traceback (most recent call last)",
      "\u001b[0;32m<ipython-input-5-84e8567afdcf>\u001b[0m in \u001b[0;36m<module>\u001b[0;34m()\u001b[0m\n\u001b[1;32m     23\u001b[0m     \u001b[0mos\u001b[0m\u001b[0;34m.\u001b[0m\u001b[0mmkdir\u001b[0m\u001b[0;34m(\u001b[0m\u001b[0mtrain\u001b[0m\u001b[0;34m)\u001b[0m\u001b[0;34m\u001b[0m\u001b[0m\n\u001b[1;32m     24\u001b[0m     \u001b[0mos\u001b[0m\u001b[0;34m.\u001b[0m\u001b[0mmkdir\u001b[0m\u001b[0;34m(\u001b[0m\u001b[0mvalid\u001b[0m\u001b[0;34m)\u001b[0m\u001b[0;34m\u001b[0m\u001b[0m\n\u001b[0;32m---> 25\u001b[0;31m     \u001b[0mmove_and_check_files\u001b[0m\u001b[0;34m(\u001b[0m\u001b[0mcategory\u001b[0m\u001b[0;34m[\u001b[0m\u001b[0;36m0\u001b[0m\u001b[0;34m]\u001b[0m\u001b[0;34m,\u001b[0m \u001b[0mtrain\u001b[0m\u001b[0;34m,\u001b[0m \u001b[0mvalid\u001b[0m\u001b[0;34m)\u001b[0m\u001b[0;34m\u001b[0m\u001b[0m\n\u001b[0m\u001b[1;32m     26\u001b[0m \u001b[0;34m\u001b[0m\u001b[0m\n\u001b[1;32m     27\u001b[0m \u001b[0mprint\u001b[0m\u001b[0;34m(\u001b[0m\u001b[0;34m\"Done !\"\u001b[0m\u001b[0;34m)\u001b[0m\u001b[0;34m\u001b[0m\u001b[0m\n",
      "\u001b[0;32m<ipython-input-5-84e8567afdcf>\u001b[0m in \u001b[0;36mmove_and_check_files\u001b[0;34m(origin, dest_train, dest_valid, quantity_train, quantity_valid)\u001b[0m\n\u001b[1;32m      1\u001b[0m \u001b[0;32mdef\u001b[0m \u001b[0mmove_and_check_files\u001b[0m\u001b[0;34m(\u001b[0m\u001b[0morigin\u001b[0m\u001b[0;34m,\u001b[0m \u001b[0mdest_train\u001b[0m\u001b[0;34m,\u001b[0m \u001b[0mdest_valid\u001b[0m\u001b[0;34m,\u001b[0m \u001b[0mquantity_train\u001b[0m\u001b[0;34m=\u001b[0m\u001b[0;36m800\u001b[0m\u001b[0;34m,\u001b[0m \u001b[0mquantity_valid\u001b[0m\u001b[0;34m=\u001b[0m\u001b[0;36m200\u001b[0m\u001b[0;34m)\u001b[0m\u001b[0;34m:\u001b[0m\u001b[0;34m\u001b[0m\u001b[0m\n\u001b[1;32m      2\u001b[0m     \u001b[0mmoved\u001b[0m \u001b[0;34m=\u001b[0m \u001b[0;36m0\u001b[0m\u001b[0;34m\u001b[0m\u001b[0m\n\u001b[0;32m----> 3\u001b[0;31m     \u001b[0;32mfor\u001b[0m \u001b[0mfile\u001b[0m \u001b[0;32min\u001b[0m \u001b[0mos\u001b[0m\u001b[0;34m.\u001b[0m\u001b[0mlistdir\u001b[0m\u001b[0;34m(\u001b[0m\u001b[0morigin\u001b[0m\u001b[0;34m)\u001b[0m\u001b[0;34m:\u001b[0m\u001b[0;34m\u001b[0m\u001b[0m\n\u001b[0m\u001b[1;32m      4\u001b[0m         \u001b[0;32mtry\u001b[0m\u001b[0;34m:\u001b[0m\u001b[0;34m\u001b[0m\u001b[0m\n\u001b[1;32m      5\u001b[0m             \u001b[0;31m# Before moving the file we check if the image is readable\u001b[0m\u001b[0;34m\u001b[0m\u001b[0;34m\u001b[0m\u001b[0m\n",
      "\u001b[0;31mFileNotFoundError\u001b[0m: [Errno 2] No such file or directory: 'tmp/Dutch'"
     ]
    }
   ],
   "source": [
    "def move_and_check_files(origin, dest_train, dest_valid, quantity_train=800, quantity_valid=200):\n",
    "    moved = 0\n",
    "    for file in os.listdir(origin):\n",
    "        try:\n",
    "            # Before moving the file we check if the image is readable\n",
    "            im = Image.open(os.path.join(origin, file))\n",
    "            im.verify()\n",
    "            os.rename(\n",
    "                os.path.join(origin, file),\n",
    "                os.path.join(dest_train if moved < quantity_train else dest_valid, file)\n",
    "            )\n",
    "            moved += 1\n",
    "        except Exception as e:\n",
    "            print(\"Bad image : %s\" % file)\n",
    "\n",
    "        if moved >= quantity_train + quantity_valid:\n",
    "            break\n",
    "\n",
    "print(\"Organizing and checking files ...\")\n",
    "for category in [(dutch_dir, 'dutch'), (flemish_dir, 'flemish')]:\n",
    "    train = train_dir + category[1]\n",
    "    valid = validation_dir + category[1]\n",
    "    os.mkdir(train)\n",
    "    os.mkdir(valid)\n",
    "    move_and_check_files(category[0], train, valid)\n",
    "\n",
    "print(\"Done !\")"
   ]
  },
  {
   "cell_type": "code",
   "execution_count": null,
   "metadata": {},
   "outputs": [],
   "source": []
  }
 ],
 "metadata": {
  "kernelspec": {
   "display_name": "conda_python3",
   "language": "python",
   "name": "conda_python3"
  },
  "language_info": {
   "codemirror_mode": {
    "name": "ipython",
    "version": 3
   },
   "file_extension": ".py",
   "mimetype": "text/x-python",
   "name": "python",
   "nbconvert_exporter": "python",
   "pygments_lexer": "ipython3",
   "version": "3.6.5"
  }
 },
 "nbformat": 4,
 "nbformat_minor": 4
}
