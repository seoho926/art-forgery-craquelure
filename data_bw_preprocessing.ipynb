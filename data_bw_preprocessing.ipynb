{
 "cells": [
  {
   "cell_type": "code",
   "execution_count": 11,
   "metadata": {
    "collapsed": true,
    "jupyter": {
     "outputs_hidden": true
    }
   },
   "outputs": [
    {
     "name": "stdout",
     "output_type": "stream",
     "text": [
      "Requirement already satisfied: pillow in /home/ec2-user/anaconda3/envs/python3/lib/python3.6/site-packages (5.2.0)\n",
      "Requirement already satisfied: keras in /home/ec2-user/anaconda3/envs/python3/lib/python3.6/site-packages (2.3.1)\n",
      "Requirement already satisfied: numpy>=1.9.1 in /home/ec2-user/anaconda3/envs/python3/lib/python3.6/site-packages (from keras) (1.18.1)\n",
      "Requirement already satisfied: keras-preprocessing>=1.0.5 in /home/ec2-user/anaconda3/envs/python3/lib/python3.6/site-packages (from keras) (1.1.0)\n",
      "Requirement already satisfied: six>=1.9.0 in /home/ec2-user/anaconda3/envs/python3/lib/python3.6/site-packages (from keras) (1.13.0)\n",
      "Requirement already satisfied: h5py in /home/ec2-user/anaconda3/envs/python3/lib/python3.6/site-packages (from keras) (2.8.0)\n",
      "Requirement already satisfied: pyyaml in /home/ec2-user/anaconda3/envs/python3/lib/python3.6/site-packages (from keras) (3.12)\n",
      "Requirement already satisfied: keras-applications>=1.0.6 in /home/ec2-user/anaconda3/envs/python3/lib/python3.6/site-packages (from keras) (1.0.8)\n",
      "Requirement already satisfied: scipy>=0.14 in /home/ec2-user/anaconda3/envs/python3/lib/python3.6/site-packages (from keras) (1.1.0)\n",
      "Requirement already satisfied: sagemaker-tensorflow in /home/ec2-user/anaconda3/envs/python3/lib/python3.6/site-packages (2.0.0.1.0.0)\n",
      "Collecting cmake\n",
      "\u001b[?25l  Downloading https://files.pythonhosted.org/packages/ff/34/0a311fedffcc7a153bbc0390ef4c378dbc7f09f9865247137f82d62f8e7a/cmake-3.15.3-py3-none-manylinux2010_x86_64.whl (16.5MB)\n",
      "\u001b[K     |████████████████████████████████| 16.5MB 29.6MB/s eta 0:00:01\n",
      "\u001b[?25hCollecting tensorflow\n",
      "  Using cached https://files.pythonhosted.org/packages/85/d4/c0cd1057b331bc38b65478302114194bd8e1b9c2bbc06e300935c0e93d90/tensorflow-2.1.0-cp36-cp36m-manylinux2010_x86_64.whl\n",
      "Requirement already satisfied: protobuf>=3.8.0 in /home/ec2-user/anaconda3/envs/python3/lib/python3.6/site-packages (from tensorflow) (3.11.2)\n",
      "Collecting scipy==1.4.1; python_version >= \"3\"\n",
      "  Using cached https://files.pythonhosted.org/packages/dc/29/162476fd44203116e7980cfbd9352eef9db37c49445d1fec35509022f6aa/scipy-1.4.1-cp36-cp36m-manylinux1_x86_64.whl\n",
      "Collecting astor>=0.6.0\n",
      "  Using cached https://files.pythonhosted.org/packages/c3/88/97eef84f48fa04fbd6750e62dcceafba6c63c81b7ac1420856c8dcc0a3f9/astor-0.8.1-py2.py3-none-any.whl\n",
      "Requirement already satisfied: tensorflow-estimator<2.2.0,>=2.1.0rc0 in /home/ec2-user/anaconda3/envs/python3/lib/python3.6/site-packages (from tensorflow) (2.1.0)\n",
      "Requirement already satisfied: tensorboard<2.2.0,>=2.1.0 in /home/ec2-user/anaconda3/envs/python3/lib/python3.6/site-packages (from tensorflow) (2.1.0)\n",
      "Requirement already satisfied: grpcio>=1.8.6 in /home/ec2-user/anaconda3/envs/python3/lib/python3.6/site-packages (from tensorflow) (1.26.0)\n",
      "Requirement already satisfied: wheel>=0.26; python_version >= \"3\" in /home/ec2-user/anaconda3/envs/python3/lib/python3.6/site-packages (from tensorflow) (0.31.1)\n",
      "Requirement already satisfied: keras-preprocessing>=1.1.0 in /home/ec2-user/anaconda3/envs/python3/lib/python3.6/site-packages (from tensorflow) (1.1.0)\n",
      "Requirement already satisfied: termcolor>=1.1.0 in /home/ec2-user/anaconda3/envs/python3/lib/python3.6/site-packages (from tensorflow) (1.1.0)\n",
      "Requirement already satisfied: absl-py>=0.7.0 in /home/ec2-user/anaconda3/envs/python3/lib/python3.6/site-packages (from tensorflow) (0.9.0)\n",
      "Collecting google-pasta>=0.1.6\n",
      "  Using cached https://files.pythonhosted.org/packages/c3/fd/1e86bc4837cc9a3a5faf3db9b1854aa04ad35b5f381f9648fbe81a6f94e4/google_pasta-0.1.8-py3-none-any.whl\n",
      "Processing /home/ec2-user/.cache/pip/wheels/d7/de/2e/efa132238792efb6459a96e85916ef8597fcb3d2ae51590dfd/wrapt-1.11.2-cp36-cp36m-linux_x86_64.whl\n",
      "Processing /home/ec2-user/.cache/pip/wheels/2c/b1/94/43d03e130b929aae7ba3f8d15cbd7bc0d1cb5bb38a5c721833/opt_einsum-3.1.0-cp36-none-any.whl\n",
      "Requirement already satisfied: keras-applications>=1.0.8 in /home/ec2-user/anaconda3/envs/python3/lib/python3.6/site-packages (from tensorflow) (1.0.8)\n",
      "Requirement already satisfied: numpy<2.0,>=1.16.0 in /home/ec2-user/anaconda3/envs/python3/lib/python3.6/site-packages (from tensorflow) (1.18.1)\n",
      "Processing /home/ec2-user/.cache/pip/wheels/5c/2e/7e/a1d4d4fcebe6c381f378ce7743a3ced3699feb89bcfbdadadd/gast-0.2.2-cp36-none-any.whl\n",
      "Requirement already satisfied: six>=1.12.0 in /home/ec2-user/anaconda3/envs/python3/lib/python3.6/site-packages (from tensorflow) (1.13.0)\n",
      "Requirement already satisfied: setuptools in /home/ec2-user/anaconda3/envs/python3/lib/python3.6/site-packages (from protobuf>=3.8.0->tensorflow) (45.0.0)\n",
      "Requirement already satisfied: google-auth-oauthlib<0.5,>=0.4.1 in /home/ec2-user/anaconda3/envs/python3/lib/python3.6/site-packages (from tensorboard<2.2.0,>=2.1.0->tensorflow) (0.4.1)\n",
      "Requirement already satisfied: werkzeug>=0.11.15 in /home/ec2-user/anaconda3/envs/python3/lib/python3.6/site-packages (from tensorboard<2.2.0,>=2.1.0->tensorflow) (0.14.1)\n",
      "Requirement already satisfied: requests<3,>=2.21.0 in /home/ec2-user/anaconda3/envs/python3/lib/python3.6/site-packages (from tensorboard<2.2.0,>=2.1.0->tensorflow) (2.22.0)\n",
      "Requirement already satisfied: markdown>=2.6.8 in /home/ec2-user/anaconda3/envs/python3/lib/python3.6/site-packages (from tensorboard<2.2.0,>=2.1.0->tensorflow) (3.1.1)\n",
      "Requirement already satisfied: google-auth<2,>=1.6.3 in /home/ec2-user/anaconda3/envs/python3/lib/python3.6/site-packages (from tensorboard<2.2.0,>=2.1.0->tensorflow) (1.10.0)\n",
      "Requirement already satisfied: h5py in /home/ec2-user/anaconda3/envs/python3/lib/python3.6/site-packages (from keras-applications>=1.0.8->tensorflow) (2.8.0)\n",
      "Requirement already satisfied: requests-oauthlib>=0.7.0 in /home/ec2-user/anaconda3/envs/python3/lib/python3.6/site-packages (from google-auth-oauthlib<0.5,>=0.4.1->tensorboard<2.2.0,>=2.1.0->tensorflow) (1.3.0)\n",
      "Requirement already satisfied: idna<2.9,>=2.5 in /home/ec2-user/anaconda3/envs/python3/lib/python3.6/site-packages (from requests<3,>=2.21.0->tensorboard<2.2.0,>=2.1.0->tensorflow) (2.6)\n",
      "Requirement already satisfied: chardet<3.1.0,>=3.0.2 in /home/ec2-user/anaconda3/envs/python3/lib/python3.6/site-packages (from requests<3,>=2.21.0->tensorboard<2.2.0,>=2.1.0->tensorflow) (3.0.4)\n",
      "Requirement already satisfied: certifi>=2017.4.17 in /home/ec2-user/anaconda3/envs/python3/lib/python3.6/site-packages (from requests<3,>=2.21.0->tensorboard<2.2.0,>=2.1.0->tensorflow) (2019.9.11)\n",
      "Requirement already satisfied: urllib3!=1.25.0,!=1.25.1,<1.26,>=1.21.1 in /home/ec2-user/anaconda3/envs/python3/lib/python3.6/site-packages (from requests<3,>=2.21.0->tensorboard<2.2.0,>=2.1.0->tensorflow) (1.23)\n",
      "Requirement already satisfied: rsa<4.1,>=3.1.4 in /home/ec2-user/anaconda3/envs/python3/lib/python3.6/site-packages (from google-auth<2,>=1.6.3->tensorboard<2.2.0,>=2.1.0->tensorflow) (3.4.2)\n",
      "Requirement already satisfied: pyasn1-modules>=0.2.1 in /home/ec2-user/anaconda3/envs/python3/lib/python3.6/site-packages (from google-auth<2,>=1.6.3->tensorboard<2.2.0,>=2.1.0->tensorflow) (0.2.8)\n",
      "Requirement already satisfied: cachetools<5.0,>=2.0.0 in /home/ec2-user/anaconda3/envs/python3/lib/python3.6/site-packages (from google-auth<2,>=1.6.3->tensorboard<2.2.0,>=2.1.0->tensorflow) (4.0.0)\n",
      "Requirement already satisfied: oauthlib>=3.0.0 in /home/ec2-user/anaconda3/envs/python3/lib/python3.6/site-packages (from requests-oauthlib>=0.7.0->google-auth-oauthlib<0.5,>=0.4.1->tensorboard<2.2.0,>=2.1.0->tensorflow) (3.1.0)\n",
      "Requirement already satisfied: pyasn1>=0.1.3 in /home/ec2-user/anaconda3/envs/python3/lib/python3.6/site-packages (from rsa<4.1,>=3.1.4->google-auth<2,>=1.6.3->tensorboard<2.2.0,>=2.1.0->tensorflow) (0.4.8)\n",
      "\u001b[31mERROR: sagemaker 1.45.0.dev0 has requirement requests<2.21,>=2.20.0, but you'll have requests 2.22.0 which is incompatible.\u001b[0m\n",
      "Installing collected packages: cmake, scipy, astor, google-pasta, wrapt, opt-einsum, gast, tensorflow\n",
      "  Found existing installation: scipy 1.1.0\n",
      "    Uninstalling scipy-1.1.0:\n",
      "      Successfully uninstalled scipy-1.1.0\n",
      "  Found existing installation: wrapt 1.10.11\n",
      "\u001b[31mERROR: Cannot uninstall 'wrapt'. It is a distutils installed project and thus we cannot accurately determine which files belong to it which would lead to only a partial uninstall.\u001b[0m\n"
     ]
    }
   ],
   "source": [
    "!pip install pillow\n",
    "!pip install keras\n",
    "!pip install sagemaker-tensorflow\n",
    "!pip install cmake tensorflow"
   ]
  },
  {
   "cell_type": "code",
   "execution_count": 3,
   "metadata": {
    "collapsed": true,
    "jupyter": {
     "outputs_hidden": true
    }
   },
   "outputs": [
    {
     "name": "stdout",
     "output_type": "stream",
     "text": [
      "Collecting pip\n",
      "\u001b[?25l  Downloading https://files.pythonhosted.org/packages/00/b6/9cfa56b4081ad13874b0c6f96af8ce16cfbc1cb06bedf8e9164ce5551ec1/pip-19.3.1-py2.py3-none-any.whl (1.4MB)\n",
      "\u001b[K    100% |████████████████████████████████| 1.4MB 19.7MB/s ta 0:00:01\n",
      "\u001b[?25hInstalling collected packages: pip\n",
      "  Found existing installation: pip 10.0.1\n",
      "    Uninstalling pip-10.0.1:\n",
      "      Successfully uninstalled pip-10.0.1\n",
      "Successfully installed pip-19.3.1\n"
     ]
    }
   ],
   "source": [
    "!pip install --upgrade pip"
   ]
  },
  {
   "cell_type": "code",
<<<<<<< HEAD
   "execution_count": 44,
=======
   "execution_count": 1,
>>>>>>> b0ba0c8d72b19fba3bfe38e56bcf6c1d2a51a170
   "metadata": {},
   "outputs": [],
   "source": [
    "from keras.preprocessing.image import ImageDataGenerator, array_to_img, img_to_array, load_img\n",
    "import numpy as np\n",
    "import os\n",
    "from PIL import Image, ImageOps"
   ]
  },
  {
   "cell_type": "code",
   "execution_count": 56,
   "metadata": {},
   "outputs": [],
   "source": [
    "# Making images black and white by changing all pixels to 0 or 255 depending on whether\n",
    "## the pixel value is greater or less than the threshold\n",
    "\n",
    "def binarize_image(img_path, threshold):\n",
    "    \"\"\"Binarize an image.\"\"\"\n",
    "    image_file = Image.open(img_path)\n",
    "    image = image_file.convert('L')  # convert image to monochrome\n",
    "    image = np.array(image)\n",
    "    for i in range(len(image)):\n",
    "        for j in range(len(image[0])):\n",
    "            if image[i][j] > threshold:\n",
    "                image[i][j] = 255\n",
    "            else:\n",
    "                image[i][j] = 0\n",
    "    return image"
   ]
  },
  {
   "cell_type": "code",
   "execution_count": 1091,
   "metadata": {},
   "outputs": [],
   "source": [
    "data = binarize_image(img_path=\"data/Cracks/train/Flemish/Flemish597.png\", threshold=180)"
   ]
  },
  {
   "cell_type": "code",
   "execution_count": 1092,
   "metadata": {},
   "outputs": [
    {
     "data": {
      "image/png": "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\n",
      "text/plain": [
       "<PIL.Image.Image image mode=L size=256x256 at 0x63CA5CA58>"
      ]
     },
     "execution_count": 1092,
     "metadata": {},
     "output_type": "execute_result"
    }
   ],
   "source": [
    "Image.fromarray(data)"
   ]
  },
  {
   "cell_type": "code",
   "execution_count": 1093,
   "metadata": {},
   "outputs": [],
   "source": [
    "bwimage = Image.fromarray(data)"
   ]
  },
  {
   "cell_type": "code",
   "execution_count": 1094,
   "metadata": {},
   "outputs": [],
   "source": [
    "bwimage.save('data/bw/Flemish597.png')\n",
    "# bwimage.save('data/bwcracks/train/Dutch/Dutch21.png')"
   ]
  },
  {
   "cell_type": "code",
   "execution_count": 864,
   "metadata": {},
   "outputs": [
    {
     "data": {
      "image/png": "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\n",
      "text/plain": [
       "<PIL.PngImagePlugin.PngImageFile image mode=L size=256x256 at 0x63B9AA9B0>"
      ]
     },
     "execution_count": 864,
     "metadata": {},
     "output_type": "execute_result"
    }
   ],
   "source": [
    "Image.open('data/bw/Flemish458.png')\n",
    "# Image.open('data/bwcracks/train/Dutch/Dutch172.png')"
   ]
  },
  {
   "cell_type": "code",
   "execution_count": 1097,
   "metadata": {},
   "outputs": [],
   "source": [
    "# Inverting black background and white line images\n",
<<<<<<< HEAD
    "from pathlib import Path\n",
    "\n",
    "pathlist = Path('data/bw').glob('**/*.png')\n",
    "for filename in pathlist:\n",
    "    im = Image.open(filename).convert('RGB')\n",
    "    im_invert = ImageOps.invert(im)\n",
    "    im_invert.save(str(filename))"
=======
    "im = Image.open('data/bwcracks/train/Dutch/Dutch1,000.png').convert('RGB')\n",
    "im_invert = ImageOps.invert(im)\n",
    "im_invert.save('data/bwcracks/train/Dutch/Dutch1,000_invert.png')"
>>>>>>> b0ba0c8d72b19fba3bfe38e56bcf6c1d2a51a170
   ]
  },
  {
   "cell_type": "code",
   "execution_count": null,
   "metadata": {},
   "outputs": [],
   "source": []
  }
 ],
 "metadata": {
  "kernelspec": {
   "display_name": "conda_tensorflow_p36",
   "language": "python",
   "name": "conda_tensorflow_p36"
  },
  "language_info": {
   "codemirror_mode": {
    "name": "ipython",
    "version": 3
   },
   "file_extension": ".py",
   "mimetype": "text/x-python",
   "name": "python",
   "nbconvert_exporter": "python",
   "pygments_lexer": "ipython3",
   "version": "3.6.5"
  }
 },
 "nbformat": 4,
 "nbformat_minor": 4
}
