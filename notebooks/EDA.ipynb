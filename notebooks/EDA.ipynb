{
 "cells": [
  {
   "cell_type": "code",
   "execution_count": 3,
   "metadata": {},
   "outputs": [],
   "source": [
    "#Preprocessing images\n",
    "##Figuring out how to turn images into grayscale\n",
    "\n",
    "import cv2 \n",
    "import numpy as np "
   ]
  },
  {
   "cell_type": "code",
   "execution_count": 22,
   "metadata": {},
   "outputs": [],
   "source": [
    "#Edge Detector\n",
    "FILE_NAME = '../sample_cracks_eda/Screen Shot 2020-01-09 at 1.58.48 PM.png'\n",
    "try: \n",
    "    # Read image from disk. \n",
    "    img = cv2.imread(FILE_NAME) \n",
    "  \n",
    "    # Canny edge detection. \n",
    "    edges = cv2.Canny(img, 150, 200) \n",
    "  \n",
    "    # Write image back to disk. \n",
    "    cv2.imwrite('result.jpg', edges)\n",
    "except IOError: \n",
    "    print ('Error while reading files !!!') "
   ]
  },
  {
   "cell_type": "code",
   "execution_count": 65,
   "metadata": {},
   "outputs": [
    {
     "data": {
      "text/plain": [
       "True"
      ]
     },
     "execution_count": 65,
     "metadata": {},
     "output_type": "execute_result"
    }
   ],
   "source": [
    "#Grayscaling\n",
    "image = cv2.imread('../sample_cracks_eda/Screen Shot 2020-01-09 at 1.58.48 PM.png', 0)\n",
    "cv2.imwrite('result.jpg', image)"
   ]
  },
  {
   "cell_type": "code",
   "execution_count": 66,
   "metadata": {},
   "outputs": [
    {
     "data": {
      "text/plain": [
       "array([[80, 50, 38, ..., 42, 50, 51],\n",
       "       [63, 43, 46, ..., 58, 54, 46],\n",
       "       [46, 31, 43, ..., 50, 47, 43],\n",
       "       ...,\n",
       "       [42, 20, 26, ..., 34, 33, 41],\n",
       "       [32, 29, 40, ..., 29, 40, 47],\n",
       "       [31, 33, 50, ..., 31, 39, 45]], dtype=uint8)"
      ]
     },
     "execution_count": 66,
     "metadata": {},
     "output_type": "execute_result"
    }
   ],
   "source": [
    "image"
   ]
  },
  {
   "cell_type": "code",
   "execution_count": 34,
   "metadata": {},
   "outputs": [
    {
     "data": {
      "text/plain": [
       "True"
      ]
     },
     "execution_count": 34,
     "metadata": {},
     "output_type": "execute_result"
    }
   ],
   "source": [
    "image2 = cv2.imread('../sample_cracks_eda/Screen Shot 2020-01-09 at 1.02.27 PM.png', 0)\n",
    "cv2.imwrite('result2.jpg', image2)"
   ]
  },
  {
   "cell_type": "code",
   "execution_count": 4,
   "metadata": {},
   "outputs": [
    {
     "data": {
      "text/plain": [
       "True"
      ]
     },
     "execution_count": 4,
     "metadata": {},
     "output_type": "execute_result"
    }
   ],
   "source": [
    "image3 = cv2.imread('../data/Cracks/train/Dutch/Dutch3.png', 0)\n",
    "cv2.imwrite('Dutch3_grayscale.jpg', image3)"
   ]
  },
  {
   "cell_type": "code",
   "execution_count": 37,
   "metadata": {},
   "outputs": [
    {
     "data": {
      "text/plain": [
       "True"
      ]
     },
     "execution_count": 37,
     "metadata": {},
     "output_type": "execute_result"
    }
   ],
   "source": [
    "image4 = cv2.imread('../sample_cracks_eda/Screen Shot 2020-01-09 at 12.59.40 PM.png', 0)\n",
    "cv2.imwrite('result4.jpg', image4)"
   ]
  },
  {
   "cell_type": "code",
   "execution_count": 6,
   "metadata": {},
   "outputs": [],
   "source": [
    "import os"
   ]
  },
  {
   "cell_type": "code",
   "execution_count": 8,
   "metadata": {},
   "outputs": [
    {
     "name": "stdout",
     "output_type": "stream",
     "text": [
      "Directory already exist, images will be written in asme folder\n",
      "Screen Shot 2020-01-09 at 1.58.48 PM.png is not converted\n",
      ".DS_Store is not converted\n",
      "Screen Shot 2020-01-09 at 11.52.51 AM.png is not converted\n",
      "Screen Shot 2020-01-09 at 11.54.30 AM.png is not converted\n",
      "Screen Shot 2020-01-09 at 11.51.23 AM.png is not converted\n",
      "Screen Shot 2020-01-09 at 1.58.52 PM.png is not converted\n",
      "Screen Shot 2020-01-09 at 2.01.35 PM.png is not converted\n",
      "Screen Shot 2020-01-09 at 1.02.27 PM.png is not converted\n",
      "Screen Shot 2020-01-09 at 1.16.35 PM.png is not converted\n",
      "Screen Shot 2020-01-09 at 12.06.33 PM.png is not converted\n",
      "Screen Shot 2020-01-09 at 12.06.47 PM.png is not converted\n",
      "Screen Shot 2020-01-09 at 11.53.46 AM.png is not converted\n",
      "Screen Shot 2020-01-09 at 2.01.04 PM.png is not converted\n",
      "Screen Shot 2020-01-09 at 11.50.16 AM.png is not converted\n",
      "Screen Shot 2020-01-09 at 11.53.27 AM.png is not converted\n",
      "Screen Shot 2020-01-09 at 12.59.37 PM.png is not converted\n",
      "Screen Shot 2020-01-09 at 11.46.33 AM.png is not converted\n",
      "Screen Shot 2020-01-09 at 12.48.59 PM.png is not converted\n",
      "Screen Shot 2020-01-09 at 12.11.56 PM.png is not converted\n",
      "Screen Shot 2020-01-09 at 12.59.40 PM.png is not converted\n",
      "Screen Shot 2020-01-09 at 12.12.20 PM.png is not converted\n",
      "Screen Shot 2020-01-09 at 11.53.05 AM.png is not converted\n"
     ]
    }
   ],
   "source": [
    "#Figuring out how to loop through a folder of images to grayscale at once\n",
    "import cv2\n",
    "from os import listdir,makedirs\n",
    "from os.path import isfile,join\n",
    "\n",
    "path = r'../sample_cracks_eda' # Source Folder\n",
    "dstpath = r'../sample_grayscale_eda' # Destination Folder\n",
    "\n",
    "try:\n",
    "    makedirs(dstpath)\n",
    "except:\n",
    "    print (\"Directory already exist, images will be written in asme folder\")\n",
    "\n",
    "# Folder won't used\n",
    "files = [f for f in listdir(path) if isfile(join(path,f))] \n",
    "\n",
    "for image in files:\n",
    "    try:\n",
    "        img = cv2.imread(os.path.join(path,image), 0)\n",
    "        dstPath = join(dstpath,image)\n",
    "        cv2.imwrite(dstPath,img)\n",
    "    except:\n",
    "        print(\"{} is not converted\".format(image))"
   ]
  },
  {
   "cell_type": "code",
   "execution_count": 9,
   "metadata": {},
   "outputs": [],
   "source": [
    "#Figuring out how to access the images in AWS s3 bucket\n",
    "import logging\n",
    "import boto3\n",
    "from botocore.exceptions import ClientError"
   ]
  },
  {
   "cell_type": "code",
   "execution_count": 46,
   "metadata": {},
   "outputs": [],
   "source": [
    "s3 = boto3.client('s3')"
   ]
  },
  {
   "cell_type": "code",
   "execution_count": 45,
   "metadata": {},
   "outputs": [
    {
     "name": "stdout",
     "output_type": "stream",
     "text": [
      "2020-01-04 23:06:45 art.forgery.capstone.project\n",
      "2020-01-02 11:21:44 fis-seoho-demo\n"
     ]
    }
   ],
   "source": [
    "! aws s3 ls"
   ]
  },
  {
   "cell_type": "code",
   "execution_count": 78,
   "metadata": {},
   "outputs": [],
   "source": [
    "response = s3.get_object(Bucket='art.forgery.capstone.project', Key='data/train/Dutch/Dutch1,000.png')"
   ]
  },
  {
   "cell_type": "code",
   "execution_count": 1,
   "metadata": {},
   "outputs": [],
   "source": [
    "# response['Body'].read()"
   ]
  },
  {
   "cell_type": "code",
   "execution_count": 1,
   "metadata": {},
   "outputs": [],
   "source": [
    "bucket = 'art.forgery.capstone.project'\n",
    "key = 'data/train/Dutch/Dutch1,001.png'"
   ]
  },
  {
   "cell_type": "code",
   "execution_count": 7,
   "metadata": {},
   "outputs": [
    {
     "ename": "NameError",
     "evalue": "name 'cv2' is not defined",
     "output_type": "error",
     "traceback": [
      "\u001b[0;31m---------------------------------------------------------------------------\u001b[0m",
      "\u001b[0;31mNameError\u001b[0m                                 Traceback (most recent call last)",
      "\u001b[0;32m<ipython-input-7-d9a2a83c7566>\u001b[0m in \u001b[0;36m<module>\u001b[0;34m\u001b[0m\n\u001b[1;32m     17\u001b[0m     \u001b[0mobject\u001b[0m\u001b[0;34m.\u001b[0m\u001b[0mdownload_fileobj\u001b[0m\u001b[0;34m(\u001b[0m\u001b[0mf\u001b[0m\u001b[0;34m)\u001b[0m\u001b[0;34m\u001b[0m\u001b[0;34m\u001b[0m\u001b[0m\n\u001b[1;32m     18\u001b[0m \u001b[0;34m\u001b[0m\u001b[0m\n\u001b[0;32m---> 19\u001b[0;31m     \u001b[0mimg\u001b[0m\u001b[0;34m=\u001b[0m\u001b[0mcv2\u001b[0m\u001b[0;34m.\u001b[0m\u001b[0mimread\u001b[0m\u001b[0;34m(\u001b[0m\u001b[0mtmp\u001b[0m\u001b[0;34m.\u001b[0m\u001b[0mname\u001b[0m\u001b[0;34m,\u001b[0m \u001b[0;36m0\u001b[0m\u001b[0;34m)\u001b[0m\u001b[0;34m\u001b[0m\u001b[0;34m\u001b[0m\u001b[0m\n\u001b[0m",
      "\u001b[0;31mNameError\u001b[0m: name 'cv2' is not defined"
     ]
    }
   ],
   "source": [
    "import matplotlib.pyplot as plt\n",
    "import matplotlib.image as mpimg\n",
    "import numpy as np\n",
    "import boto3\n",
    "import tempfile\n",
    "\n",
    "s3 = boto3.resource('s3')\n",
    "\n",
    "bucket = s3.Bucket('art.forgery.capstone.project')\n",
    "\n",
    "object = bucket.Object('data/train/Dutch/Dutch1,001.png')\n",
    "\n",
    "tmp = tempfile.NamedTemporaryFile()\n",
    "\n",
    "with open(tmp.name, 'wb') as f:\n",
    "\n",
    "    object.download_fileobj(f)\n",
    "\n",
    "    img=cv2.imread(tmp.name, 0)"
   ]
  },
  {
   "cell_type": "code",
   "execution_count": 103,
   "metadata": {},
   "outputs": [
    {
     "data": {
      "text/plain": [
       "True"
      ]
     },
     "execution_count": 103,
     "metadata": {},
     "output_type": "execute_result"
    }
   ],
   "source": [
    "cv2.imwrite('result5.jpg', img)"
   ]
  },
  {
   "cell_type": "code",
   "execution_count": 104,
   "metadata": {},
   "outputs": [
    {
     "data": {
      "text/plain": [
       "array([[18, 20, 21, ..., 18, 19, 19],\n",
       "       [18, 17, 18, ..., 17, 18, 19],\n",
       "       [22, 18, 18, ..., 17, 19, 19],\n",
       "       ...,\n",
       "       [18, 21, 20, ..., 19, 18, 19],\n",
       "       [19, 21, 19, ..., 18, 18, 20],\n",
       "       [20, 17, 17, ..., 18, 18, 20]], dtype=uint8)"
      ]
     },
     "execution_count": 104,
     "metadata": {},
     "output_type": "execute_result"
    }
   ],
   "source": [
    "img"
   ]
  },
  {
   "cell_type": "code",
   "execution_count": 10,
   "metadata": {},
   "outputs": [],
   "source": [
    "s3 = boto3.resource('s3')\n",
    "bucket = s3.Bucket('art.forgery.capstone.project')\n",
    "tmp = tempfile.NamedTemporaryFile()\n",
    "\n",
    "def greyscaling(obj):\n",
    "    with open(tmp.name, 'wb') as f:\n",
    "        obj.download_fileobj(f)\n",
    "    return cv2.imread(tmp.name, 0)"
   ]
  },
  {
   "cell_type": "code",
   "execution_count": 31,
   "metadata": {},
   "outputs": [],
   "source": [
    "dutch_train_imgs = []            \n",
    "for object in bucket.objects.filter(Prefix='data/train/Dutch/'):\n",
    "    obj = bucket.Object(str(object.key))\n",
    "    dutch_train_imgs.append(greyscaling(obj))"
   ]
  },
  {
   "cell_type": "code",
   "execution_count": 33,
   "metadata": {},
   "outputs": [],
   "source": [
    "dutch_train_imgs = dutch_train_imgs[1:-1]"
   ]
  },
  {
   "cell_type": "code",
   "execution_count": 35,
   "metadata": {},
   "outputs": [
    {
     "data": {
      "text/plain": [
       "[array([[32, 21, 18, ..., 20, 20, 20],\n",
       "        [28, 23, 23, ..., 19, 19, 22],\n",
       "        [23, 23, 25, ..., 18, 18, 21],\n",
       "        ...,\n",
       "        [17, 17, 17, ..., 24, 23, 17],\n",
       "        [17, 17, 16, ..., 22, 20, 20],\n",
       "        [17, 17, 15, ..., 20, 17, 19]], dtype=uint8),\n",
       " array([[18, 20, 21, ..., 18, 19, 19],\n",
       "        [18, 17, 18, ..., 17, 18, 19],\n",
       "        [22, 18, 18, ..., 17, 19, 19],\n",
       "        ...,\n",
       "        [18, 21, 20, ..., 19, 18, 19],\n",
       "        [19, 21, 19, ..., 18, 18, 20],\n",
       "        [20, 17, 17, ..., 18, 18, 20]], dtype=uint8)]"
      ]
     },
     "execution_count": 35,
     "metadata": {},
     "output_type": "execute_result"
    }
   ],
   "source": [
    "dutch_train_imgs[:2]"
   ]
  },
  {
   "cell_type": "code",
   "execution_count": 4,
   "metadata": {},
   "outputs": [
    {
     "name": "stderr",
     "output_type": "stream",
     "text": [
      "Using TensorFlow backend.\n"
     ]
    }
   ],
   "source": [
    "import time\n",
    "import matplotlib.pyplot as plt\n",
    "import scipy\n",
    "import numpy as np\n",
    "from PIL import Image\n",
    "from scipy import ndimage\n",
    "from keras.preprocessing.image import ImageDataGenerator, array_to_img, img_to_array, load_img\n",
    "\n",
    "np.random.seed(123)"
   ]
  },
  {
   "cell_type": "code",
   "execution_count": 14,
   "metadata": {},
   "outputs": [
    {
     "name": "stdout",
     "output_type": "stream",
     "text": [
      "Checking bucket ...\n"
     ]
    },
    {
     "ename": "NameError",
     "evalue": "name '__file__' is not defined",
     "output_type": "error",
     "traceback": [
      "\u001b[0;31m---------------------------------------------------------------------------\u001b[0m",
      "\u001b[0;31mNameError\u001b[0m                                 Traceback (most recent call last)",
      "\u001b[0;32m<ipython-input-14-8217c0ee8d05>\u001b[0m in \u001b[0;36m<module>\u001b[0;34m\u001b[0m\n\u001b[1;32m     16\u001b[0m \u001b[0;34m\u001b[0m\u001b[0m\n\u001b[1;32m     17\u001b[0m \u001b[0mzip_dataset\u001b[0m \u001b[0;34m=\u001b[0m \u001b[0;34m\"Cracks2.zip\"\u001b[0m\u001b[0;34m\u001b[0m\u001b[0;34m\u001b[0m\u001b[0m\n\u001b[0;32m---> 18\u001b[0;31m \u001b[0mtmp_dest\u001b[0m \u001b[0;34m=\u001b[0m \u001b[0mos\u001b[0m\u001b[0;34m.\u001b[0m\u001b[0mpath\u001b[0m\u001b[0;34m.\u001b[0m\u001b[0mjoin\u001b[0m\u001b[0;34m(\u001b[0m\u001b[0mos\u001b[0m\u001b[0;34m.\u001b[0m\u001b[0mpath\u001b[0m\u001b[0;34m.\u001b[0m\u001b[0mdirname\u001b[0m\u001b[0;34m(\u001b[0m\u001b[0m__file__\u001b[0m\u001b[0;34m)\u001b[0m\u001b[0;34m,\u001b[0m \u001b[0;34m\"tmp\"\u001b[0m\u001b[0;34m)\u001b[0m\u001b[0;34m\u001b[0m\u001b[0;34m\u001b[0m\u001b[0m\n\u001b[0m\u001b[1;32m     19\u001b[0m \u001b[0mdata_dir\u001b[0m \u001b[0;34m=\u001b[0m \u001b[0mos\u001b[0m\u001b[0;34m.\u001b[0m\u001b[0mpath\u001b[0m\u001b[0;34m.\u001b[0m\u001b[0mjoin\u001b[0m\u001b[0;34m(\u001b[0m\u001b[0mos\u001b[0m\u001b[0;34m.\u001b[0m\u001b[0mpath\u001b[0m\u001b[0;34m.\u001b[0m\u001b[0mdirname\u001b[0m\u001b[0;34m(\u001b[0m\u001b[0m__file__\u001b[0m\u001b[0;34m)\u001b[0m\u001b[0;34m,\u001b[0m \u001b[0;34m\"cracks\"\u001b[0m\u001b[0;34m)\u001b[0m\u001b[0;34m\u001b[0m\u001b[0;34m\u001b[0m\u001b[0m\n\u001b[1;32m     20\u001b[0m \u001b[0;34m\u001b[0m\u001b[0m\n",
      "\u001b[0;31mNameError\u001b[0m: name '__file__' is not defined"
     ]
    }
   ],
   "source": [
    "import boto3\n",
    "import os\n",
    "import zipfile\n",
    "from PIL import Image\n",
    "from botocore.exceptions import ClientError\n",
    "\n",
    "bucket_name = 'art.forgery.capstone.project'\n",
    "\n",
    "s3 = boto3.client('s3')\n",
    "try:\n",
    "    print(\"Checking bucket ...\")\n",
    "    s3.head_bucket(Bucket=bucket_name)\n",
    "except ClientError as e:\n",
    "    print(\"Bucket not existing, creating it ...\")\n",
    "    s3.create_bucket(Bucket=bucket_name, ACL=\"private\", CreateBucketConfiguration={'LocationConstraint': 'EU'})\n",
    "\n",
    "zip_dataset = \"Cracks2.zip\"\n",
    "tmp_dest = os.path.join(os.path.dirname(__file__), \"tmp\")\n",
    "data_dir = os.path.join(os.path.dirname(__file__), \"cracks\")\n",
    "\n",
    "if not os.path.exists(tmp_dest):\n",
    "    os.mkdir(tmp_dest)\n",
    "\n",
    "if len(os.listdir(tmp_dest)) <= 0:\n",
    "    print(\"Unzipping archive ...\")\n",
    "    with zipfile.ZipFile(zip_dataset, 'r') as zip_ref:\n",
    "        zip_ref.extractall(tmp_dest)\n",
    "\n",
    "dutch_dir = tmp_dest + \"/Dutch\"\n",
    "flemish_dir = tmp_dest + \"/Flemish\"\n",
    "\n",
    "train_dir = data_dir + \"/train/\"\n",
    "validation_dir = data_dir + \"/validation/\"\n",
    "\n",
    "print(\"Checking directories ...\")\n",
    "for dir in [data_dir, train_dir, validation_dir]:\n",
    "    if not os.path.exists(dir):\n",
    "        os.mkdir(dir)"
   ]
  },
  {
   "cell_type": "code",
   "execution_count": 65,
   "metadata": {},
   "outputs": [
    {
     "data": {
      "text/plain": [
       "(256, 256)"
      ]
     },
     "execution_count": 65,
     "metadata": {},
     "output_type": "execute_result"
    }
   ],
   "source": [
    "from PIL import Image \n",
    "image_file = Image.open(\"../data/Cracks/train/Dutch/Dutch1,077.png\") # open colour image\n",
    "image_file = image_file.convert('1') # convert image to black and white\n",
    "image_file.save('resultbw.png')\n",
    "\n",
    "np.array(image_file).shape"
   ]
  },
  {
   "cell_type": "code",
   "execution_count": 88,
   "metadata": {},
   "outputs": [],
   "source": [
    "def binarize_image(img_path, threshold):\n",
    "    \"\"\"Binarize an image.\"\"\"\n",
    "    image_file = Image.open(img_path)\n",
    "    image = image_file.convert('L')  # convert image to monochrome\n",
    "    image = np.array(image)\n",
    "    for i in range(len(image)):\n",
    "        for j in range(len(image[0])):\n",
    "            if image[i][j] > threshold:\n",
    "                image[i][j] = 255\n",
    "            else:\n",
    "                image[i][j] = 0\n",
    "    return image"
   ]
  },
  {
   "cell_type": "code",
   "execution_count": 114,
   "metadata": {},
   "outputs": [],
   "source": [
    "data = binarize_image(img_path=\"../data/Cracks/train/Dutch/Dutch1,022.png\", threshold=70)"
   ]
  },
  {
   "cell_type": "code",
   "execution_count": 118,
   "metadata": {},
   "outputs": [],
   "source": [
    "bwimage = Image.fromarray(data)"
   ]
  },
  {
   "cell_type": "code",
   "execution_count": 119,
   "metadata": {},
   "outputs": [],
   "source": [
    "bwimage.save('../data/bwcracks/train/Dutch/Dutch1.png')"
   ]
  },
  {
   "cell_type": "code",
   "execution_count": null,
   "metadata": {},
   "outputs": [],
   "source": []
  }
 ],
 "metadata": {
  "kernelspec": {
   "display_name": "conda_tensorflow_p36",
   "language": "python",
   "name": "conda_tensorflow_p36"
  },
  "language_info": {
   "codemirror_mode": {
    "name": "ipython",
    "version": 3
   },
   "file_extension": ".py",
   "mimetype": "text/x-python",
   "name": "python",
   "nbconvert_exporter": "python",
   "pygments_lexer": "ipython3",
   "version": "3.6.5"
  },
  "nbdime-conflicts": {
   "local_diff": [
    {
     "diff": [
      {
       "diff": [
        {
         "key": 0,
         "op": "addrange",
         "valuelist": [
          "conda_tensorflow_p36"
         ]
        },
        {
         "key": 0,
         "length": 1,
         "op": "removerange"
        }
       ],
       "key": "display_name",
       "op": "patch"
      },
      {
       "diff": [
        {
         "key": 0,
         "op": "addrange",
         "valuelist": [
          "conda_tensorflow_p36"
         ]
        },
        {
         "key": 0,
         "length": 1,
         "op": "removerange"
        }
       ],
       "key": "name",
       "op": "patch"
      }
     ],
     "key": "kernelspec",
     "op": "patch"
    }
   ],
   "remote_diff": [
    {
     "diff": [
      {
       "diff": [
        {
         "key": 0,
         "op": "addrange",
         "valuelist": [
          "Python 3"
         ]
        },
        {
         "key": 0,
         "length": 1,
         "op": "removerange"
        }
       ],
       "key": "display_name",
       "op": "patch"
      },
      {
       "diff": [
        {
         "key": 0,
         "op": "addrange",
         "valuelist": [
          "python3"
         ]
        },
        {
         "key": 0,
         "length": 1,
         "op": "removerange"
        }
       ],
       "key": "name",
       "op": "patch"
      }
     ],
     "key": "kernelspec",
     "op": "patch"
    }
   ]
  }
 },
 "nbformat": 4,
 "nbformat_minor": 4
}
